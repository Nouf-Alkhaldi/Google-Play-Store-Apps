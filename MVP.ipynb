{
 "cells": [
  {
   "cell_type": "code",
   "execution_count": 523,
   "id": "f504390d",
   "metadata": {},
   "outputs": [],
   "source": [
    "# import library, pandas to read the dataset\n",
    "import pandas as pd\n",
    "import numpy as np\n",
    "import matplotlib.pyplot as plt\n",
    "import seaborn as sns\n",
    "%matplotlib inline\n",
    "pd.set_option('display.float_format', lambda x: '%.2f' % x)"
   ]
  },
  {
   "cell_type": "code",
   "execution_count": 524,
   "id": "92a2a530",
   "metadata": {},
   "outputs": [],
   "source": [
    "# read data stored in path using pd.read_csv, then store the data in df dataframe\n",
    "df = pd.read_csv('Google Play Store Apps Dataset.csv')"
   ]
  },
  {
   "cell_type": "code",
   "execution_count": 525,
   "id": "9e8f276b",
   "metadata": {},
   "outputs": [
    {
     "data": {
      "text/html": [
       "<div>\n",
       "<style scoped>\n",
       "    .dataframe tbody tr th:only-of-type {\n",
       "        vertical-align: middle;\n",
       "    }\n",
       "\n",
       "    .dataframe tbody tr th {\n",
       "        vertical-align: top;\n",
       "    }\n",
       "\n",
       "    .dataframe thead th {\n",
       "        text-align: right;\n",
       "    }\n",
       "</style>\n",
       "<table border=\"1\" class=\"dataframe\">\n",
       "  <thead>\n",
       "    <tr style=\"text-align: right;\">\n",
       "      <th></th>\n",
       "      <th>App</th>\n",
       "      <th>Category</th>\n",
       "      <th>Rating</th>\n",
       "      <th>Reviews</th>\n",
       "      <th>Size</th>\n",
       "      <th>Installs</th>\n",
       "      <th>Type</th>\n",
       "      <th>Price</th>\n",
       "      <th>Content</th>\n",
       "      <th>Genres</th>\n",
       "      <th>Last Updated</th>\n",
       "      <th>Current Ver</th>\n",
       "      <th>Android Ver</th>\n",
       "    </tr>\n",
       "  </thead>\n",
       "  <tbody>\n",
       "    <tr>\n",
       "      <th>0</th>\n",
       "      <td>Photo Editor &amp; Candy Camera &amp; Grid &amp; ScrapBook</td>\n",
       "      <td>ART_AND_DESIGN</td>\n",
       "      <td>4.10</td>\n",
       "      <td>159</td>\n",
       "      <td>19M</td>\n",
       "      <td>10,000+</td>\n",
       "      <td>Free</td>\n",
       "      <td>0</td>\n",
       "      <td>Everyone</td>\n",
       "      <td>Art &amp; Design</td>\n",
       "      <td>7-Jan-18</td>\n",
       "      <td>1.0.0</td>\n",
       "      <td>4.0.3 and up</td>\n",
       "    </tr>\n",
       "    <tr>\n",
       "      <th>1</th>\n",
       "      <td>Coloring book moana</td>\n",
       "      <td>ART_AND_DESIGN</td>\n",
       "      <td>3.90</td>\n",
       "      <td>967</td>\n",
       "      <td>14M</td>\n",
       "      <td>500,000+</td>\n",
       "      <td>Free</td>\n",
       "      <td>0</td>\n",
       "      <td>Everyone</td>\n",
       "      <td>Art &amp; Design;Pretend Play</td>\n",
       "      <td>15-Jan-18</td>\n",
       "      <td>2.0.0</td>\n",
       "      <td>4.0.3 and up</td>\n",
       "    </tr>\n",
       "    <tr>\n",
       "      <th>2</th>\n",
       "      <td>U Launcher Lite – FREE Live Cool Themes, Hide ...</td>\n",
       "      <td>ART_AND_DESIGN</td>\n",
       "      <td>4.70</td>\n",
       "      <td>87510</td>\n",
       "      <td>8.7M</td>\n",
       "      <td>5,000,000+</td>\n",
       "      <td>Free</td>\n",
       "      <td>0</td>\n",
       "      <td>Everyone</td>\n",
       "      <td>Art &amp; Design</td>\n",
       "      <td>1-Aug-18</td>\n",
       "      <td>1.2.4</td>\n",
       "      <td>4.0.3 and up</td>\n",
       "    </tr>\n",
       "    <tr>\n",
       "      <th>3</th>\n",
       "      <td>Sketch - Draw &amp; Paint</td>\n",
       "      <td>ART_AND_DESIGN</td>\n",
       "      <td>4.50</td>\n",
       "      <td>215644</td>\n",
       "      <td>25M</td>\n",
       "      <td>50,000,000+</td>\n",
       "      <td>Free</td>\n",
       "      <td>0</td>\n",
       "      <td>Teen</td>\n",
       "      <td>Art &amp; Design</td>\n",
       "      <td>8-Jun-18</td>\n",
       "      <td>Varies with device</td>\n",
       "      <td>4.2 and up</td>\n",
       "    </tr>\n",
       "    <tr>\n",
       "      <th>4</th>\n",
       "      <td>Pixel Draw - Number Art Coloring Book</td>\n",
       "      <td>ART_AND_DESIGN</td>\n",
       "      <td>4.30</td>\n",
       "      <td>967</td>\n",
       "      <td>2.8M</td>\n",
       "      <td>100,000+</td>\n",
       "      <td>Free</td>\n",
       "      <td>0</td>\n",
       "      <td>Everyone</td>\n",
       "      <td>Art &amp; Design;Creativity</td>\n",
       "      <td>20-Jun-18</td>\n",
       "      <td>1.1</td>\n",
       "      <td>4.4 and up</td>\n",
       "    </tr>\n",
       "  </tbody>\n",
       "</table>\n",
       "</div>"
      ],
      "text/plain": [
       "                                                 App        Category  Rating  \\\n",
       "0     Photo Editor & Candy Camera & Grid & ScrapBook  ART_AND_DESIGN    4.10   \n",
       "1                                Coloring book moana  ART_AND_DESIGN    3.90   \n",
       "2  U Launcher Lite – FREE Live Cool Themes, Hide ...  ART_AND_DESIGN    4.70   \n",
       "3                              Sketch - Draw & Paint  ART_AND_DESIGN    4.50   \n",
       "4              Pixel Draw - Number Art Coloring Book  ART_AND_DESIGN    4.30   \n",
       "\n",
       "  Reviews  Size     Installs  Type Price   Content                     Genres  \\\n",
       "0     159   19M      10,000+  Free     0  Everyone               Art & Design   \n",
       "1     967   14M     500,000+  Free     0  Everyone  Art & Design;Pretend Play   \n",
       "2   87510  8.7M   5,000,000+  Free     0  Everyone               Art & Design   \n",
       "3  215644   25M  50,000,000+  Free     0      Teen               Art & Design   \n",
       "4     967  2.8M     100,000+  Free     0  Everyone    Art & Design;Creativity   \n",
       "\n",
       "  Last Updated         Current Ver   Android Ver  \n",
       "0     7-Jan-18               1.0.0  4.0.3 and up  \n",
       "1    15-Jan-18               2.0.0  4.0.3 and up  \n",
       "2     1-Aug-18               1.2.4  4.0.3 and up  \n",
       "3     8-Jun-18  Varies with device    4.2 and up  \n",
       "4    20-Jun-18                 1.1    4.4 and up  "
      ]
     },
     "execution_count": 525,
     "metadata": {},
     "output_type": "execute_result"
    }
   ],
   "source": [
    "#show first five dataframe content \n",
    "df.head()"
   ]
  },
  {
   "cell_type": "code",
   "execution_count": 526,
   "id": "16f50284",
   "metadata": {},
   "outputs": [
    {
     "name": "stdout",
     "output_type": "stream",
     "text": [
      "<class 'pandas.core.frame.DataFrame'>\n",
      "RangeIndex: 10841 entries, 0 to 10840\n",
      "Data columns (total 13 columns):\n",
      " #   Column        Non-Null Count  Dtype  \n",
      "---  ------        --------------  -----  \n",
      " 0   App           10841 non-null  object \n",
      " 1   Category      10841 non-null  object \n",
      " 2   Rating        9367 non-null   float64\n",
      " 3   Reviews       10841 non-null  object \n",
      " 4   Size          10841 non-null  object \n",
      " 5   Installs      10841 non-null  object \n",
      " 6   Type          10840 non-null  object \n",
      " 7   Price         10841 non-null  object \n",
      " 8   Content       10840 non-null  object \n",
      " 9   Genres        10841 non-null  object \n",
      " 10  Last Updated  10841 non-null  object \n",
      " 11  Current Ver   10833 non-null  object \n",
      " 12  Android Ver   10838 non-null  object \n",
      "dtypes: float64(1), object(12)\n",
      "memory usage: 1.1+ MB\n"
     ]
    }
   ],
   "source": [
    "# explore the data type at each series\n",
    "df.info()"
   ]
  },
  {
   "cell_type": "code",
   "execution_count": 527,
   "id": "8c1beaa5",
   "metadata": {},
   "outputs": [],
   "source": [
    "#the output above shows that all features have object types except the Rating.\n",
    "\n",
    "#App: Application name.\n",
    "#Category: Category the app belongs to (FAMILY, GAME, Other)\n",
    "#Rating: Overall user rating of the app.\n",
    "#Reviews: Number of user reviews for the app.\n",
    "#Size: Size of the app.\n",
    "#Installs: Number of user downloads/installs for the app.\n",
    "#Type: Paid or Free\n",
    "#Price: Price of the app.\n",
    "#Content Rating: Age group the app is targeted at - Children / Mature 21+ / Adult\n",
    "#Genres: An app can belong to multiple genres. \n",
    "\n",
    "#So there is 4 features need to convert into integer or float  such as Reviews, Size, Installs and Price because it has numbers."
   ]
  },
  {
   "cell_type": "code",
   "execution_count": 528,
   "id": "c37712e1",
   "metadata": {},
   "outputs": [
    {
     "data": {
      "text/plain": [
       "App                0\n",
       "Category           0\n",
       "Rating          1474\n",
       "Reviews            0\n",
       "Size               0\n",
       "Installs           0\n",
       "Type               1\n",
       "Price              0\n",
       "Content            1\n",
       "Genres             0\n",
       "Last Updated       0\n",
       "Current Ver        8\n",
       "Android Ver        3\n",
       "dtype: int64"
      ]
     },
     "execution_count": 528,
     "metadata": {},
     "output_type": "execute_result"
    }
   ],
   "source": [
    "# check to null values\n",
    "df.isna().sum()"
   ]
  },
  {
   "cell_type": "code",
   "execution_count": 529,
   "id": "8ea75383",
   "metadata": {},
   "outputs": [
    {
     "data": {
      "text/html": [
       "<div>\n",
       "<style scoped>\n",
       "    .dataframe tbody tr th:only-of-type {\n",
       "        vertical-align: middle;\n",
       "    }\n",
       "\n",
       "    .dataframe tbody tr th {\n",
       "        vertical-align: top;\n",
       "    }\n",
       "\n",
       "    .dataframe thead th {\n",
       "        text-align: right;\n",
       "    }\n",
       "</style>\n",
       "<table border=\"1\" class=\"dataframe\">\n",
       "  <thead>\n",
       "    <tr style=\"text-align: right;\">\n",
       "      <th></th>\n",
       "      <th>Rating</th>\n",
       "    </tr>\n",
       "  </thead>\n",
       "  <tbody>\n",
       "    <tr>\n",
       "      <th>count</th>\n",
       "      <td>9367.00</td>\n",
       "    </tr>\n",
       "    <tr>\n",
       "      <th>mean</th>\n",
       "      <td>4.19</td>\n",
       "    </tr>\n",
       "    <tr>\n",
       "      <th>std</th>\n",
       "      <td>0.54</td>\n",
       "    </tr>\n",
       "    <tr>\n",
       "      <th>min</th>\n",
       "      <td>1.00</td>\n",
       "    </tr>\n",
       "    <tr>\n",
       "      <th>25%</th>\n",
       "      <td>4.00</td>\n",
       "    </tr>\n",
       "    <tr>\n",
       "      <th>50%</th>\n",
       "      <td>4.30</td>\n",
       "    </tr>\n",
       "    <tr>\n",
       "      <th>75%</th>\n",
       "      <td>4.50</td>\n",
       "    </tr>\n",
       "    <tr>\n",
       "      <th>max</th>\n",
       "      <td>19.00</td>\n",
       "    </tr>\n",
       "  </tbody>\n",
       "</table>\n",
       "</div>"
      ],
      "text/plain": [
       "       Rating\n",
       "count 9367.00\n",
       "mean     4.19\n",
       "std      0.54\n",
       "min      1.00\n",
       "25%      4.00\n",
       "50%      4.30\n",
       "75%      4.50\n",
       "max     19.00"
      ]
     },
     "execution_count": 529,
     "metadata": {},
     "output_type": "execute_result"
    }
   ],
   "source": [
    "# check statistical values\n",
    "df.describe()"
   ]
  },
  {
   "cell_type": "code",
   "execution_count": 530,
   "id": "161b10c5",
   "metadata": {},
   "outputs": [],
   "source": [
    "#Rating feature has tow issue (max=19,null values)\n",
    "#Change the max value to the mean\n",
    "df[df['Rating']>5] = (4.19)"
   ]
  },
  {
   "cell_type": "code",
   "execution_count": 532,
   "id": "dc75accb",
   "metadata": {},
   "outputs": [
    {
     "data": {
      "text/plain": [
       "5.0"
      ]
     },
     "execution_count": 532,
     "metadata": {},
     "output_type": "execute_result"
    }
   ],
   "source": [
    "#check the result\n",
    "df.Rating.max()"
   ]
  },
  {
   "cell_type": "code",
   "execution_count": 533,
   "id": "c7d3bb50",
   "metadata": {},
   "outputs": [],
   "source": [
    "#Change null values to the mean\n",
    "df.Rating.fillna(4.19,inplace=True)"
   ]
  },
  {
   "cell_type": "code",
   "execution_count": 534,
   "id": "ddf5c8c3",
   "metadata": {},
   "outputs": [
    {
     "data": {
      "text/plain": [
       "App             0\n",
       "Category        0\n",
       "Rating          0\n",
       "Reviews         0\n",
       "Size            0\n",
       "Installs        0\n",
       "Type            1\n",
       "Price           0\n",
       "Content         0\n",
       "Genres          0\n",
       "Last Updated    0\n",
       "Current Ver     8\n",
       "Android Ver     2\n",
       "dtype: int64"
      ]
     },
     "execution_count": 534,
     "metadata": {},
     "output_type": "execute_result"
    }
   ],
   "source": [
    "#check null value after cleaning the Rating feature\n",
    "df.isna().sum()"
   ]
  },
  {
   "cell_type": "code",
   "execution_count": 535,
   "id": "c7bd1c1f",
   "metadata": {},
   "outputs": [],
   "source": [
    "#Rating feature has one issue (data type=object), So I convert the data type of Reviews feature into integer \n",
    "df.Reviews=df.Reviews.astype('int')"
   ]
  },
  {
   "cell_type": "code",
   "execution_count": 536,
   "id": "26e19e83",
   "metadata": {},
   "outputs": [
    {
     "name": "stdout",
     "output_type": "stream",
     "text": [
      "<class 'pandas.core.frame.DataFrame'>\n",
      "RangeIndex: 10841 entries, 0 to 10840\n",
      "Data columns (total 13 columns):\n",
      " #   Column        Non-Null Count  Dtype  \n",
      "---  ------        --------------  -----  \n",
      " 0   App           10841 non-null  object \n",
      " 1   Category      10841 non-null  object \n",
      " 2   Rating        10841 non-null  float64\n",
      " 3   Reviews       10841 non-null  int32  \n",
      " 4   Size          10841 non-null  object \n",
      " 5   Installs      10841 non-null  object \n",
      " 6   Type          10840 non-null  object \n",
      " 7   Price         10841 non-null  object \n",
      " 8   Content       10841 non-null  object \n",
      " 9   Genres        10841 non-null  object \n",
      " 10  Last Updated  10841 non-null  object \n",
      " 11  Current Ver   10833 non-null  object \n",
      " 12  Android Ver   10839 non-null  object \n",
      "dtypes: float64(1), int32(1), object(11)\n",
      "memory usage: 1.0+ MB\n"
     ]
    }
   ],
   "source": [
    "#check data type of Reviews feature after converting\n",
    "df.info()"
   ]
  },
  {
   "cell_type": "code",
   "execution_count": 537,
   "id": "91dcdbe4",
   "metadata": {},
   "outputs": [
    {
     "data": {
      "text/plain": [
       "array(['19M', '14M', '8.7M', '25M', '2.8M', '5.6M', '29M', '33M', '3.1M',\n",
       "       '28M', '12M', '20M', '21M', '37M', '2.7M', '5.5M', '17M', '39M',\n",
       "       '31M', '4.2M', '7.0M', '23M', '6.0M', '6.1M', '4.6M', '9.2M',\n",
       "       '5.2M', '11M', '24M', 'Varies with device', '9.4M', '15M', '10M',\n",
       "       '1.2M', '26M', '8.0M', '7.9M', '56M', '57M', '35M', '54M', '201k',\n",
       "       '3.6M', '5.7M', '8.6M', '2.4M', '27M', '2.5M', '16M', '3.4M',\n",
       "       '8.9M', '3.9M', '2.9M', '38M', '32M', '5.4M', '18M', '1.1M',\n",
       "       '2.2M', '4.5M', '9.8M', '52M', '9.0M', '6.7M', '30M', '2.6M',\n",
       "       '7.1M', '3.7M', '22M', '7.4M', '6.4M', '3.2M', '8.2M', '9.9M',\n",
       "       '4.9M', '9.5M', '5.0M', '5.9M', '13M', '73M', '6.8M', '3.5M',\n",
       "       '4.0M', '2.3M', '7.2M', '2.1M', '42M', '7.3M', '9.1M', '55M',\n",
       "       '23k', '6.5M', '1.5M', '7.5M', '51M', '41M', '48M', '8.5M', '46M',\n",
       "       '8.3M', '4.3M', '4.7M', '3.3M', '40M', '7.8M', '8.8M', '6.6M',\n",
       "       '5.1M', '61M', '66M', '79k', '8.4M', '118k', '44M', '695k', '1.6M',\n",
       "       '6.2M', '18k', '53M', '1.4M', '3.0M', '5.8M', '3.8M', '9.6M',\n",
       "       '45M', '63M', '49M', '77M', '4.4M', '4.8M', '70M', '6.9M', '9.3M',\n",
       "       '10.0M', '8.1M', '36M', '84M', '97M', '2.0M', '1.9M', '1.8M',\n",
       "       '5.3M', '47M', '556k', '526k', '76M', '7.6M', '59M', '9.7M', '78M',\n",
       "       '72M', '43M', '7.7M', '6.3M', '334k', '34M', '93M', '65M', '79M',\n",
       "       '100M', '58M', '50M', '68M', '64M', '67M', '60M', '94M', '232k',\n",
       "       '99M', '624k', '95M', '8.5k', '41k', '292k', '11k', '80M', '1.7M',\n",
       "       '74M', '62M', '69M', '75M', '98M', '85M', '82M', '96M', '87M',\n",
       "       '71M', '86M', '91M', '81M', '92M', '83M', '88M', '704k', '862k',\n",
       "       '899k', '378k', '266k', '375k', '1.3M', '975k', '980k', '4.1M',\n",
       "       '89M', '696k', '544k', '525k', '920k', '779k', '853k', '720k',\n",
       "       '713k', '772k', '318k', '58k', '241k', '196k', '857k', '51k',\n",
       "       '953k', '865k', '251k', '930k', '540k', '313k', '746k', '203k',\n",
       "       '26k', '314k', '239k', '371k', '220k', '730k', '756k', '91k',\n",
       "       '293k', '17k', '74k', '14k', '317k', '78k', '924k', '902k', '818k',\n",
       "       '81k', '939k', '169k', '45k', '475k', '965k', '90M', '545k', '61k',\n",
       "       '283k', '655k', '714k', '93k', '872k', '121k', '322k', '1.0M',\n",
       "       '976k', '172k', '238k', '549k', '206k', '954k', '444k', '717k',\n",
       "       '210k', '609k', '308k', '705k', '306k', '904k', '473k', '175k',\n",
       "       '350k', '383k', '454k', '421k', '70k', '812k', '442k', '842k',\n",
       "       '417k', '412k', '459k', '478k', '335k', '782k', '721k', '430k',\n",
       "       '429k', '192k', '200k', '460k', '728k', '496k', '816k', '414k',\n",
       "       '506k', '887k', '613k', '243k', '569k', '778k', '683k', '592k',\n",
       "       '319k', '186k', '840k', '647k', '191k', '373k', '437k', '598k',\n",
       "       '716k', '585k', '982k', '222k', '219k', '55k', '948k', '323k',\n",
       "       '691k', '511k', '951k', '963k', '25k', '554k', '351k', '27k',\n",
       "       '82k', '208k', '913k', '514k', '551k', '29k', '103k', '898k',\n",
       "       '743k', '116k', '153k', '209k', '353k', '499k', '173k', '597k',\n",
       "       '809k', '122k', '411k', '400k', '801k', '787k', '237k', '50k',\n",
       "       '643k', '986k', '97k', '516k', '837k', '780k', '961k', '269k',\n",
       "       '20k', '498k', '600k', '749k', '642k', '881k', '72k', '656k',\n",
       "       '601k', '221k', '228k', '108k', '940k', '176k', '33k', '663k',\n",
       "       '34k', '942k', '259k', '164k', '458k', '245k', '629k', '28k',\n",
       "       '288k', '775k', '785k', '636k', '916k', '994k', '309k', '485k',\n",
       "       '914k', '903k', '608k', '500k', '54k', '562k', '847k', '957k',\n",
       "       '688k', '811k', '270k', '48k', '329k', '523k', '921k', '874k',\n",
       "       '981k', '784k', '280k', '24k', '518k', '754k', '892k', '154k',\n",
       "       '860k', '364k', '387k', '626k', '161k', '879k', '39k', '970k',\n",
       "       '170k', '141k', '160k', '144k', '143k', '190k', '376k', '193k',\n",
       "       '246k', '73k', '658k', '992k', '253k', '420k', '404k', 4.19,\n",
       "       '470k', '226k', '240k', '89k', '234k', '257k', '861k', '467k',\n",
       "       '157k', '44k', '676k', '67k', '552k', '885k', '1020k', '582k',\n",
       "       '619k'], dtype=object)"
      ]
     },
     "execution_count": 537,
     "metadata": {},
     "output_type": "execute_result"
    }
   ],
   "source": [
    "df.Size.unique()\n",
    "#Size feature has tow issue (data type=object,null values) \n",
    "#We need to remove the letters from values then we can convert the data type of Size feature into float "
   ]
  },
  {
   "cell_type": "code",
   "execution_count": 538,
   "id": "8b6d3654",
   "metadata": {},
   "outputs": [],
   "source": [
    "#Remove the letters and word from values\n",
    "df.Size=df.Size.str.replace('M','')\n",
    "df.Size=df.Size.str.replace('k','')\n",
    "df.Size=df.Size.str.replace('Varies with device','')"
   ]
  },
  {
   "cell_type": "code",
   "execution_count": 539,
   "id": "4b883164",
   "metadata": {},
   "outputs": [],
   "source": [
    "#Remove '' from values\n",
    "df.Size=df.Size[df.Size != '']"
   ]
  },
  {
   "cell_type": "code",
   "execution_count": 540,
   "id": "0e7ebf47",
   "metadata": {},
   "outputs": [
    {
     "data": {
      "text/plain": [
       "App                0\n",
       "Category           0\n",
       "Rating             0\n",
       "Reviews            0\n",
       "Size            1696\n",
       "Installs           0\n",
       "Type               1\n",
       "Price              0\n",
       "Content            0\n",
       "Genres             0\n",
       "Last Updated       0\n",
       "Current Ver        8\n",
       "Android Ver        2\n",
       "dtype: int64"
      ]
     },
     "execution_count": 540,
     "metadata": {},
     "output_type": "execute_result"
    }
   ],
   "source": [
    "#check null value\n",
    "df.isna().sum()"
   ]
  },
  {
   "cell_type": "code",
   "execution_count": 541,
   "id": "9b9587e9",
   "metadata": {},
   "outputs": [
    {
     "data": {
      "text/plain": [
       "11     199\n",
       "12     196\n",
       "14     195\n",
       "13     191\n",
       "15     184\n",
       "      ... \n",
       "562      1\n",
       "173      1\n",
       "257      1\n",
       "442      1\n",
       "430      1\n",
       "Name: Size, Length: 421, dtype: int64"
      ]
     },
     "execution_count": 541,
     "metadata": {},
     "output_type": "execute_result"
    }
   ],
   "source": [
    "# check the most frequitial value \n",
    "df.Size.value_counts()"
   ]
  },
  {
   "cell_type": "code",
   "execution_count": 542,
   "id": "355df84e",
   "metadata": {},
   "outputs": [],
   "source": [
    "#convert the null value into the most frequitial value of Size feature\n",
    "df.Size.fillna('11',inplace=True)"
   ]
  },
  {
   "cell_type": "code",
   "execution_count": 543,
   "id": "43c9143b",
   "metadata": {},
   "outputs": [],
   "source": [
    "# convert the data type of Size feature into float \n",
    "df.Size=df.Size.astype('float')"
   ]
  },
  {
   "cell_type": "code",
   "execution_count": 544,
   "id": "d5127211",
   "metadata": {},
   "outputs": [
    {
     "name": "stdout",
     "output_type": "stream",
     "text": [
      "<class 'pandas.core.frame.DataFrame'>\n",
      "RangeIndex: 10841 entries, 0 to 10840\n",
      "Data columns (total 13 columns):\n",
      " #   Column        Non-Null Count  Dtype  \n",
      "---  ------        --------------  -----  \n",
      " 0   App           10841 non-null  object \n",
      " 1   Category      10841 non-null  object \n",
      " 2   Rating        10841 non-null  float64\n",
      " 3   Reviews       10841 non-null  int32  \n",
      " 4   Size          10841 non-null  float64\n",
      " 5   Installs      10841 non-null  object \n",
      " 6   Type          10840 non-null  object \n",
      " 7   Price         10841 non-null  object \n",
      " 8   Content       10841 non-null  object \n",
      " 9   Genres        10841 non-null  object \n",
      " 10  Last Updated  10841 non-null  object \n",
      " 11  Current Ver   10833 non-null  object \n",
      " 12  Android Ver   10839 non-null  object \n",
      "dtypes: float64(2), int32(1), object(10)\n",
      "memory usage: 1.0+ MB\n"
     ]
    }
   ],
   "source": [
    "#check the result\n",
    "df.info()"
   ]
  },
  {
   "cell_type": "code",
   "execution_count": 545,
   "id": "aaef6f85",
   "metadata": {},
   "outputs": [
    {
     "data": {
      "text/plain": [
       "array(['10,000+', '500,000+', '5,000,000+', '50,000,000+', '100,000+',\n",
       "       '50,000+', '1,000,000+', '10,000,000+', '5,000+', '100,000,000+',\n",
       "       '1,000,000,000+', '1,000+', '500,000,000+', '50+', '100+', '500+',\n",
       "       '10+', '1+', '5+', '0+', '0', 4.19], dtype=object)"
      ]
     },
     "execution_count": 545,
     "metadata": {},
     "output_type": "execute_result"
    }
   ],
   "source": [
    "df.Installs.unique()\n",
    "#Installs feature has one issue (data type=object) \n",
    "#We need to remove the comma and plus from values then we can convert the data type of Installs feature into float \n"
   ]
  },
  {
   "cell_type": "code",
   "execution_count": 546,
   "id": "1035ee7e",
   "metadata": {},
   "outputs": [
    {
     "name": "stderr",
     "output_type": "stream",
     "text": [
      "<ipython-input-546-aa5e668729d5>:2: FutureWarning: The default value of regex will change from True to False in a future version. In addition, single character regular expressions will*not* be treated as literal strings when regex=True.\n",
      "  df.Installs=df.Installs.str.replace('+','')\n"
     ]
    }
   ],
   "source": [
    "#Remove comma and plus from values\n",
    "df.Installs=df.Installs.str.replace('+','')\n",
    "df.Installs=df.Installs.str.replace(',','')"
   ]
  },
  {
   "cell_type": "code",
   "execution_count": 547,
   "id": "79f8a630",
   "metadata": {},
   "outputs": [],
   "source": [
    "# convert the data type of Installs feature into float \n",
    "df.Installs=df.Installs.astype('float')"
   ]
  },
  {
   "cell_type": "code",
   "execution_count": 548,
   "id": "682a57a8",
   "metadata": {},
   "outputs": [
    {
     "name": "stdout",
     "output_type": "stream",
     "text": [
      "<class 'pandas.core.frame.DataFrame'>\n",
      "RangeIndex: 10841 entries, 0 to 10840\n",
      "Data columns (total 13 columns):\n",
      " #   Column        Non-Null Count  Dtype  \n",
      "---  ------        --------------  -----  \n",
      " 0   App           10841 non-null  object \n",
      " 1   Category      10841 non-null  object \n",
      " 2   Rating        10841 non-null  float64\n",
      " 3   Reviews       10841 non-null  int32  \n",
      " 4   Size          10841 non-null  float64\n",
      " 5   Installs      10840 non-null  float64\n",
      " 6   Type          10840 non-null  object \n",
      " 7   Price         10841 non-null  object \n",
      " 8   Content       10841 non-null  object \n",
      " 9   Genres        10841 non-null  object \n",
      " 10  Last Updated  10841 non-null  object \n",
      " 11  Current Ver   10833 non-null  object \n",
      " 12  Android Ver   10839 non-null  object \n",
      "dtypes: float64(3), int32(1), object(9)\n",
      "memory usage: 1.0+ MB\n"
     ]
    }
   ],
   "source": [
    "#check the result\n",
    "df.info()"
   ]
  },
  {
   "cell_type": "code",
   "execution_count": 549,
   "id": "344d325c",
   "metadata": {},
   "outputs": [
    {
     "data": {
      "text/plain": [
       "App             0\n",
       "Category        0\n",
       "Rating          0\n",
       "Reviews         0\n",
       "Size            0\n",
       "Installs        1\n",
       "Type            1\n",
       "Price           0\n",
       "Content         0\n",
       "Genres          0\n",
       "Last Updated    0\n",
       "Current Ver     8\n",
       "Android Ver     2\n",
       "dtype: int64"
      ]
     },
     "execution_count": 549,
     "metadata": {},
     "output_type": "execute_result"
    }
   ],
   "source": [
    "df.isna().sum()\n",
    "#After converting, One null value is appear"
   ]
  },
  {
   "cell_type": "code",
   "execution_count": 550,
   "id": "b76fcbd4",
   "metadata": {},
   "outputs": [],
   "source": [
    "#Remove null value\n",
    "df.dropna(subset=['Installs'],inplace=True)\n",
    "df.dropna(subset=['Type'],inplace=True)\n",
    "df.dropna(subset=['Current Ver'],inplace=True)\n",
    "df.dropna(subset=['Android Ver'],inplace=True)\n"
   ]
  },
  {
   "cell_type": "code",
   "execution_count": 551,
   "id": "9744ea5e",
   "metadata": {},
   "outputs": [
    {
     "data": {
      "text/plain": [
       "App             0\n",
       "Category        0\n",
       "Rating          0\n",
       "Reviews         0\n",
       "Size            0\n",
       "Installs        0\n",
       "Type            0\n",
       "Price           0\n",
       "Content         0\n",
       "Genres          0\n",
       "Last Updated    0\n",
       "Current Ver     0\n",
       "Android Ver     0\n",
       "dtype: int64"
      ]
     },
     "execution_count": 551,
     "metadata": {},
     "output_type": "execute_result"
    }
   ],
   "source": [
    "#check the result\n",
    "df.isna().sum()"
   ]
  },
  {
   "cell_type": "code",
   "execution_count": 552,
   "id": "bb99fb7d",
   "metadata": {},
   "outputs": [
    {
     "data": {
      "text/plain": [
       "array(['0', '$4.99 ', '$3.99 ', '$6.99 ', '$1.49 ', '$2.99 ', '$7.99 ',\n",
       "       '$5.99 ', '$3.49 ', '$1.99 ', '$9.99 ', '$7.49 ', '$0.99 ',\n",
       "       '$9.00 ', '$5.49 ', '$10.00 ', '$24.99 ', '$11.99 ', '$79.99 ',\n",
       "       '$16.99 ', '$14.99 ', '$1.00 ', '$29.99 ', '$12.99 ', '$2.49 ',\n",
       "       '$10.99 ', '$1.50 ', '$19.99 ', '$15.99 ', '$33.99 ', '$74.99 ',\n",
       "       '$39.99 ', '$3.95 ', '$4.49 ', '$1.70 ', '$8.99 ', '$2.00 ',\n",
       "       '$3.88 ', '$25.99 ', '$399.99 ', '$17.99 ', '$400.00 ', '$3.02 ',\n",
       "       '$1.76 ', '$4.84 ', '$4.77 ', '$1.61 ', '$2.50 ', '$1.59 ',\n",
       "       '$6.49 ', '$1.29 ', '$5.00 ', '$13.99 ', '$299.99 ', '$379.99 ',\n",
       "       '$37.99 ', '$18.99 ', '$389.99 ', '$19.90 ', '$8.49 ', '$1.75 ',\n",
       "       '$14.00 ', '$4.85 ', '$46.99 ', '$109.99 ', '$154.99 ', '$3.08 ',\n",
       "       '$2.59 ', '$4.80 ', '$1.96 ', '$19.40 ', '$3.90 ', '$4.59 ',\n",
       "       '$15.46 ', '$3.04 ', '$4.29 ', '$2.60 ', '$3.28 ', '$4.60 ',\n",
       "       '$28.99 ', '$2.95 ', '$2.90 ', '$1.97 ', '$200.00 ', '$89.99 ',\n",
       "       '$2.56 ', '$30.99 ', '$3.61 ', '$394.99 ', '$1.26 ', '$1.20 ',\n",
       "       '$1.04 '], dtype=object)"
      ]
     },
     "execution_count": 552,
     "metadata": {},
     "output_type": "execute_result"
    }
   ],
   "source": [
    "df.Price.unique()\n",
    "#Price feature has one issue (data type=object) \n",
    "#We need to remove the word and $ from values then we can convert the data type of Price feature into float "
   ]
  },
  {
   "cell_type": "code",
   "execution_count": 553,
   "id": "803de997",
   "metadata": {},
   "outputs": [
    {
     "name": "stderr",
     "output_type": "stream",
     "text": [
      "<ipython-input-553-1ac18bd6b87b>:3: FutureWarning: The default value of regex will change from True to False in a future version. In addition, single character regular expressions will*not* be treated as literal strings when regex=True.\n",
      "  df.Price=df.Price.str.replace('$','')\n"
     ]
    }
   ],
   "source": [
    "#Remove word and $ from values\n",
    "df.Price=df.Price.str.replace('Everyone','')\n",
    "df.Price=df.Price.str.replace('$','')"
   ]
  },
  {
   "cell_type": "code",
   "execution_count": 554,
   "id": "235253bc",
   "metadata": {},
   "outputs": [],
   "source": [
    "# convert the data type of Price feature into float \n",
    "df.Price=df.Price.astype('float')"
   ]
  },
  {
   "cell_type": "code",
   "execution_count": 555,
   "id": "542e8840",
   "metadata": {},
   "outputs": [
    {
     "name": "stdout",
     "output_type": "stream",
     "text": [
      "<class 'pandas.core.frame.DataFrame'>\n",
      "Int64Index: 10829 entries, 0 to 10840\n",
      "Data columns (total 13 columns):\n",
      " #   Column        Non-Null Count  Dtype  \n",
      "---  ------        --------------  -----  \n",
      " 0   App           10829 non-null  object \n",
      " 1   Category      10829 non-null  object \n",
      " 2   Rating        10829 non-null  float64\n",
      " 3   Reviews       10829 non-null  int32  \n",
      " 4   Size          10829 non-null  float64\n",
      " 5   Installs      10829 non-null  float64\n",
      " 6   Type          10829 non-null  object \n",
      " 7   Price         10829 non-null  float64\n",
      " 8   Content       10829 non-null  object \n",
      " 9   Genres        10829 non-null  object \n",
      " 10  Last Updated  10829 non-null  object \n",
      " 11  Current Ver   10829 non-null  object \n",
      " 12  Android Ver   10829 non-null  object \n",
      "dtypes: float64(4), int32(1), object(8)\n",
      "memory usage: 1.1+ MB\n"
     ]
    }
   ],
   "source": [
    "df.info()\n",
    "#it is clean, now I can move to the next step."
   ]
  },
  {
   "cell_type": "markdown",
   "id": "a525ab60",
   "metadata": {},
   "source": [
    "\n",
    "## ___\n",
    "\n",
    "\n",
    "\n",
    "\n",
    "## The project aims to find out the answers of this questions:\n",
    "- What are the categories of applications that people are most interested in?\n",
    "- Does the high rating of the application effect on the number of times it is installed?\n",
    "- Does the type of the app effect on the total number of installing it?\n",
    "- What are the categories that contain the most non-free applications?\n",
    "\n",
    "\n"
   ]
  },
  {
   "cell_type": "code",
   "execution_count": 556,
   "id": "a44b5242",
   "metadata": {},
   "outputs": [
    {
     "data": {
      "text/html": [
       "<div>\n",
       "<style scoped>\n",
       "    .dataframe tbody tr th:only-of-type {\n",
       "        vertical-align: middle;\n",
       "    }\n",
       "\n",
       "    .dataframe tbody tr th {\n",
       "        vertical-align: top;\n",
       "    }\n",
       "\n",
       "    .dataframe thead th {\n",
       "        text-align: right;\n",
       "    }\n",
       "</style>\n",
       "<table border=\"1\" class=\"dataframe\">\n",
       "  <thead>\n",
       "    <tr style=\"text-align: right;\">\n",
       "      <th></th>\n",
       "      <th>Installs</th>\n",
       "    </tr>\n",
       "    <tr>\n",
       "      <th>Category</th>\n",
       "      <th></th>\n",
       "    </tr>\n",
       "  </thead>\n",
       "  <tbody>\n",
       "    <tr>\n",
       "      <th>GAME</th>\n",
       "      <td>35086024415.00</td>\n",
       "    </tr>\n",
       "    <tr>\n",
       "      <th>COMMUNICATION</th>\n",
       "      <td>32647276251.00</td>\n",
       "    </tr>\n",
       "    <tr>\n",
       "      <th>PRODUCTIVITY</th>\n",
       "      <td>14176091369.00</td>\n",
       "    </tr>\n",
       "    <tr>\n",
       "      <th>SOCIAL</th>\n",
       "      <td>14069867902.00</td>\n",
       "    </tr>\n",
       "    <tr>\n",
       "      <th>TOOLS</th>\n",
       "      <td>11452271905.00</td>\n",
       "    </tr>\n",
       "    <tr>\n",
       "      <th>FAMILY</th>\n",
       "      <td>10258203405.00</td>\n",
       "    </tr>\n",
       "    <tr>\n",
       "      <th>PHOTOGRAPHY</th>\n",
       "      <td>10088247655.00</td>\n",
       "    </tr>\n",
       "    <tr>\n",
       "      <th>NEWS_AND_MAGAZINES</th>\n",
       "      <td>7496317760.00</td>\n",
       "    </tr>\n",
       "    <tr>\n",
       "      <th>TRAVEL_AND_LOCAL</th>\n",
       "      <td>6868887146.00</td>\n",
       "    </tr>\n",
       "    <tr>\n",
       "      <th>VIDEO_PLAYERS</th>\n",
       "      <td>6222002720.00</td>\n",
       "    </tr>\n",
       "    <tr>\n",
       "      <th>SHOPPING</th>\n",
       "      <td>3247848785.00</td>\n",
       "    </tr>\n",
       "    <tr>\n",
       "      <th>ENTERTAINMENT</th>\n",
       "      <td>2869160000.00</td>\n",
       "    </tr>\n",
       "    <tr>\n",
       "      <th>PERSONALIZATION</th>\n",
       "      <td>2325483782.00</td>\n",
       "    </tr>\n",
       "    <tr>\n",
       "      <th>BOOKS_AND_REFERENCE</th>\n",
       "      <td>1921468576.00</td>\n",
       "    </tr>\n",
       "    <tr>\n",
       "      <th>SPORTS</th>\n",
       "      <td>1751174498.00</td>\n",
       "    </tr>\n",
       "    <tr>\n",
       "      <th>HEALTH_AND_FITNESS</th>\n",
       "      <td>1583072512.00</td>\n",
       "    </tr>\n",
       "    <tr>\n",
       "      <th>BUSINESS</th>\n",
       "      <td>1001914865.00</td>\n",
       "    </tr>\n",
       "    <tr>\n",
       "      <th>FINANCE</th>\n",
       "      <td>876648734.00</td>\n",
       "    </tr>\n",
       "    <tr>\n",
       "      <th>EDUCATION</th>\n",
       "      <td>871452000.00</td>\n",
       "    </tr>\n",
       "    <tr>\n",
       "      <th>MAPS_AND_NAVIGATION</th>\n",
       "      <td>724281890.00</td>\n",
       "    </tr>\n",
       "    <tr>\n",
       "      <th>LIFESTYLE</th>\n",
       "      <td>537643539.00</td>\n",
       "    </tr>\n",
       "    <tr>\n",
       "      <th>WEATHER</th>\n",
       "      <td>426100520.00</td>\n",
       "    </tr>\n",
       "    <tr>\n",
       "      <th>FOOD_AND_DRINK</th>\n",
       "      <td>273898751.00</td>\n",
       "    </tr>\n",
       "    <tr>\n",
       "      <th>DATING</th>\n",
       "      <td>264310807.00</td>\n",
       "    </tr>\n",
       "    <tr>\n",
       "      <th>HOUSE_AND_HOME</th>\n",
       "      <td>168712461.00</td>\n",
       "    </tr>\n",
       "    <tr>\n",
       "      <th>ART_AND_DESIGN</th>\n",
       "      <td>124333100.00</td>\n",
       "    </tr>\n",
       "    <tr>\n",
       "      <th>LIBRARIES_AND_DEMO</th>\n",
       "      <td>61995910.00</td>\n",
       "    </tr>\n",
       "    <tr>\n",
       "      <th>COMICS</th>\n",
       "      <td>56086150.00</td>\n",
       "    </tr>\n",
       "    <tr>\n",
       "      <th>MEDICAL</th>\n",
       "      <td>53257437.00</td>\n",
       "    </tr>\n",
       "    <tr>\n",
       "      <th>AUTO_AND_VEHICLES</th>\n",
       "      <td>53130211.00</td>\n",
       "    </tr>\n",
       "    <tr>\n",
       "      <th>PARENTING</th>\n",
       "      <td>31521110.00</td>\n",
       "    </tr>\n",
       "    <tr>\n",
       "      <th>BEAUTY</th>\n",
       "      <td>27197050.00</td>\n",
       "    </tr>\n",
       "    <tr>\n",
       "      <th>EVENTS</th>\n",
       "      <td>15973161.00</td>\n",
       "    </tr>\n",
       "  </tbody>\n",
       "</table>\n",
       "</div>"
      ],
      "text/plain": [
       "                          Installs\n",
       "Category                          \n",
       "GAME                35086024415.00\n",
       "COMMUNICATION       32647276251.00\n",
       "PRODUCTIVITY        14176091369.00\n",
       "SOCIAL              14069867902.00\n",
       "TOOLS               11452271905.00\n",
       "FAMILY              10258203405.00\n",
       "PHOTOGRAPHY         10088247655.00\n",
       "NEWS_AND_MAGAZINES   7496317760.00\n",
       "TRAVEL_AND_LOCAL     6868887146.00\n",
       "VIDEO_PLAYERS        6222002720.00\n",
       "SHOPPING             3247848785.00\n",
       "ENTERTAINMENT        2869160000.00\n",
       "PERSONALIZATION      2325483782.00\n",
       "BOOKS_AND_REFERENCE  1921468576.00\n",
       "SPORTS               1751174498.00\n",
       "HEALTH_AND_FITNESS   1583072512.00\n",
       "BUSINESS             1001914865.00\n",
       "FINANCE               876648734.00\n",
       "EDUCATION             871452000.00\n",
       "MAPS_AND_NAVIGATION   724281890.00\n",
       "LIFESTYLE             537643539.00\n",
       "WEATHER               426100520.00\n",
       "FOOD_AND_DRINK        273898751.00\n",
       "DATING                264310807.00\n",
       "HOUSE_AND_HOME        168712461.00\n",
       "ART_AND_DESIGN        124333100.00\n",
       "LIBRARIES_AND_DEMO     61995910.00\n",
       "COMICS                 56086150.00\n",
       "MEDICAL                53257437.00\n",
       "AUTO_AND_VEHICLES      53130211.00\n",
       "PARENTING              31521110.00\n",
       "BEAUTY                 27197050.00\n",
       "EVENTS                 15973161.00"
      ]
     },
     "execution_count": 556,
     "metadata": {},
     "output_type": "execute_result"
    }
   ],
   "source": [
    "#What are the categories of applications that people are most interested in?\n",
    "groupd=df.groupby(['Category'])[['Installs']].sum().sort_values('Installs',ascending=False)\n",
    "groupd"
   ]
  },
  {
   "cell_type": "code",
   "execution_count": 557,
   "id": "a07e7a4b",
   "metadata": {},
   "outputs": [
    {
     "data": {
      "image/png": "[encoded data removed]",
      "text/plain": [
       "<Figure size 1008x432 with 1 Axes>"
      ]
     },
     "metadata": {
      "needs_background": "light"
     },
     "output_type": "display_data"
    }
   ],
   "source": [
    "plt.figure(figsize=[14,6])\n",
    "plt.bar(groupd.index,groupd.Installs);\n",
    "plt.xticks(rotation=90);\n",
    "plt.title('most popular categories of applications',fontsize=30,color='g',family='serif');\n",
    "plt.xlabel('categories of applications',fontsize=20,color='g',family='serif');\n",
    "plt.ylabel('Installs',fontsize=20,color='g',family='serif');"
   ]
  },
  {
   "cell_type": "code",
   "execution_count": 558,
   "id": "873b9d5f",
   "metadata": {},
   "outputs": [
    {
     "data": {
      "text/html": [
       "<div>\n",
       "<style scoped>\n",
       "    .dataframe tbody tr th:only-of-type {\n",
       "        vertical-align: middle;\n",
       "    }\n",
       "\n",
       "    .dataframe tbody tr th {\n",
       "        vertical-align: top;\n",
       "    }\n",
       "\n",
       "    .dataframe thead th {\n",
       "        text-align: right;\n",
       "    }\n",
       "</style>\n",
       "<table border=\"1\" class=\"dataframe\">\n",
       "  <thead>\n",
       "    <tr style=\"text-align: right;\">\n",
       "      <th></th>\n",
       "      <th>Installs</th>\n",
       "    </tr>\n",
       "    <tr>\n",
       "      <th>Rating</th>\n",
       "      <th></th>\n",
       "    </tr>\n",
       "  </thead>\n",
       "  <tbody>\n",
       "    <tr>\n",
       "      <th>4.30</th>\n",
       "      <td>37714376810.00</td>\n",
       "    </tr>\n",
       "    <tr>\n",
       "      <th>4.50</th>\n",
       "      <td>33741998960.00</td>\n",
       "    </tr>\n",
       "    <tr>\n",
       "      <th>4.40</th>\n",
       "      <td>33519750700.00</td>\n",
       "    </tr>\n",
       "    <tr>\n",
       "      <th>4.20</th>\n",
       "      <td>17169699160.00</td>\n",
       "    </tr>\n",
       "    <tr>\n",
       "      <th>4.60</th>\n",
       "      <td>12471569800.00</td>\n",
       "    </tr>\n",
       "    <tr>\n",
       "      <th>4.00</th>\n",
       "      <td>10660491410.00</td>\n",
       "    </tr>\n",
       "    <tr>\n",
       "      <th>4.10</th>\n",
       "      <td>8504208600.00</td>\n",
       "    </tr>\n",
       "    <tr>\n",
       "      <th>3.90</th>\n",
       "      <td>6117060300.00</td>\n",
       "    </tr>\n",
       "    <tr>\n",
       "      <th>4.70</th>\n",
       "      <td>3995375110.00</td>\n",
       "    </tr>\n",
       "    <tr>\n",
       "      <th>3.70</th>\n",
       "      <td>1722050460.00</td>\n",
       "    </tr>\n",
       "    <tr>\n",
       "      <th>3.80</th>\n",
       "      <td>634472500.00</td>\n",
       "    </tr>\n",
       "    <tr>\n",
       "      <th>4.80</th>\n",
       "      <td>442950990.00</td>\n",
       "    </tr>\n",
       "    <tr>\n",
       "      <th>3.60</th>\n",
       "      <td>247917750.00</td>\n",
       "    </tr>\n",
       "    <tr>\n",
       "      <th>3.50</th>\n",
       "      <td>238230060.00</td>\n",
       "    </tr>\n",
       "    <tr>\n",
       "      <th>3.40</th>\n",
       "      <td>109414950.00</td>\n",
       "    </tr>\n",
       "    <tr>\n",
       "      <th>3.10</th>\n",
       "      <td>106558500.00</td>\n",
       "    </tr>\n",
       "    <tr>\n",
       "      <th>3.30</th>\n",
       "      <td>94951800.00</td>\n",
       "    </tr>\n",
       "    <tr>\n",
       "      <th>4.90</th>\n",
       "      <td>43882600.00</td>\n",
       "    </tr>\n",
       "    <tr>\n",
       "      <th>3.00</th>\n",
       "      <td>34433880.00</td>\n",
       "    </tr>\n",
       "    <tr>\n",
       "      <th>3.20</th>\n",
       "      <td>28669400.00</td>\n",
       "    </tr>\n",
       "    <tr>\n",
       "      <th>2.90</th>\n",
       "      <td>7191100.00</td>\n",
       "    </tr>\n",
       "    <tr>\n",
       "      <th>4.19</th>\n",
       "      <td>5964439.00</td>\n",
       "    </tr>\n",
       "    <tr>\n",
       "      <th>2.00</th>\n",
       "      <td>5040150.00</td>\n",
       "    </tr>\n",
       "    <tr>\n",
       "      <th>2.70</th>\n",
       "      <td>3859800.00</td>\n",
       "    </tr>\n",
       "    <tr>\n",
       "      <th>2.80</th>\n",
       "      <td>3509150.00</td>\n",
       "    </tr>\n",
       "    <tr>\n",
       "      <th>2.50</th>\n",
       "      <td>2578100.00</td>\n",
       "    </tr>\n",
       "    <tr>\n",
       "      <th>2.20</th>\n",
       "      <td>2130600.00</td>\n",
       "    </tr>\n",
       "    <tr>\n",
       "      <th>2.40</th>\n",
       "      <td>1284100.00</td>\n",
       "    </tr>\n",
       "    <tr>\n",
       "      <th>2.60</th>\n",
       "      <td>542600.00</td>\n",
       "    </tr>\n",
       "    <tr>\n",
       "      <th>1.80</th>\n",
       "      <td>519500.00</td>\n",
       "    </tr>\n",
       "    <tr>\n",
       "      <th>1.90</th>\n",
       "      <td>389000.00</td>\n",
       "    </tr>\n",
       "    <tr>\n",
       "      <th>2.30</th>\n",
       "      <td>264100.00</td>\n",
       "    </tr>\n",
       "    <tr>\n",
       "      <th>2.10</th>\n",
       "      <td>182000.00</td>\n",
       "    </tr>\n",
       "    <tr>\n",
       "      <th>1.60</th>\n",
       "      <td>152000.00</td>\n",
       "    </tr>\n",
       "    <tr>\n",
       "      <th>5.00</th>\n",
       "      <td>90023.00</td>\n",
       "    </tr>\n",
       "    <tr>\n",
       "      <th>1.70</th>\n",
       "      <td>81700.00</td>\n",
       "    </tr>\n",
       "    <tr>\n",
       "      <th>1.40</th>\n",
       "      <td>7000.00</td>\n",
       "    </tr>\n",
       "    <tr>\n",
       "      <th>1.00</th>\n",
       "      <td>5170.00</td>\n",
       "    </tr>\n",
       "    <tr>\n",
       "      <th>1.50</th>\n",
       "      <td>1105.00</td>\n",
       "    </tr>\n",
       "    <tr>\n",
       "      <th>1.20</th>\n",
       "      <td>1000.00</td>\n",
       "    </tr>\n",
       "  </tbody>\n",
       "</table>\n",
       "</div>"
      ],
      "text/plain": [
       "             Installs\n",
       "Rating               \n",
       "4.30   37714376810.00\n",
       "4.50   33741998960.00\n",
       "4.40   33519750700.00\n",
       "4.20   17169699160.00\n",
       "4.60   12471569800.00\n",
       "4.00   10660491410.00\n",
       "4.10    8504208600.00\n",
       "3.90    6117060300.00\n",
       "4.70    3995375110.00\n",
       "3.70    1722050460.00\n",
       "3.80     634472500.00\n",
       "4.80     442950990.00\n",
       "3.60     247917750.00\n",
       "3.50     238230060.00\n",
       "3.40     109414950.00\n",
       "3.10     106558500.00\n",
       "3.30      94951800.00\n",
       "4.90      43882600.00\n",
       "3.00      34433880.00\n",
       "3.20      28669400.00\n",
       "2.90       7191100.00\n",
       "4.19       5964439.00\n",
       "2.00       5040150.00\n",
       "2.70       3859800.00\n",
       "2.80       3509150.00\n",
       "2.50       2578100.00\n",
       "2.20       2130600.00\n",
       "2.40       1284100.00\n",
       "2.60        542600.00\n",
       "1.80        519500.00\n",
       "1.90        389000.00\n",
       "2.30        264100.00\n",
       "2.10        182000.00\n",
       "1.60        152000.00\n",
       "5.00         90023.00\n",
       "1.70         81700.00\n",
       "1.40          7000.00\n",
       "1.00          5170.00\n",
       "1.50          1105.00\n",
       "1.20          1000.00"
      ]
     },
     "execution_count": 558,
     "metadata": {},
     "output_type": "execute_result"
    }
   ],
   "source": [
    "#Does the high rating of the application effect on the number of times it is installed?\n",
    "a=df.groupby(['Rating'])[['Installs']].sum().sort_values('Installs',ascending=False)\n",
    "a"
   ]
  },
  {
   "cell_type": "code",
   "execution_count": 559,
   "id": "9d405c15",
   "metadata": {},
   "outputs": [
    {
     "data": {
      "image/png": "[encoded data removed]",
      "text/plain": [
       "<Figure size 864x432 with 1 Axes>"
      ]
     },
     "metadata": {
      "needs_background": "light"
     },
     "output_type": "display_data"
    }
   ],
   "source": [
    "plt.figure(figsize=[12,6]);\n",
    "plt.bar(a.index,a.Installs);\n",
    "plt.title('The effect of Rating on installation',fontsize=30,color='g',family='serif');\n",
    "plt.xlabel('Rating',fontsize=20,color='g',family='serif');\n",
    "plt.ylabel('Installs',fontsize=20,color='g',family='serif');"
   ]
  },
  {
   "cell_type": "code",
   "execution_count": 560,
   "id": "92359a74",
   "metadata": {},
   "outputs": [
    {
     "data": {
      "text/html": [
       "<div>\n",
       "<style scoped>\n",
       "    .dataframe tbody tr th:only-of-type {\n",
       "        vertical-align: middle;\n",
       "    }\n",
       "\n",
       "    .dataframe tbody tr th {\n",
       "        vertical-align: top;\n",
       "    }\n",
       "\n",
       "    .dataframe thead th {\n",
       "        text-align: right;\n",
       "    }\n",
       "</style>\n",
       "<table border=\"1\" class=\"dataframe\">\n",
       "  <thead>\n",
       "    <tr style=\"text-align: right;\">\n",
       "      <th></th>\n",
       "      <th>Installs</th>\n",
       "    </tr>\n",
       "    <tr>\n",
       "      <th>Type</th>\n",
       "      <th></th>\n",
       "    </tr>\n",
       "  </thead>\n",
       "  <tbody>\n",
       "    <tr>\n",
       "      <th>Free</th>\n",
       "      <td>100000.00</td>\n",
       "    </tr>\n",
       "    <tr>\n",
       "      <th>Paid</th>\n",
       "      <td>1000.00</td>\n",
       "    </tr>\n",
       "  </tbody>\n",
       "</table>\n",
       "</div>"
      ],
      "text/plain": [
       "      Installs\n",
       "Type          \n",
       "Free 100000.00\n",
       "Paid   1000.00"
      ]
     },
     "execution_count": 560,
     "metadata": {},
     "output_type": "execute_result"
    }
   ],
   "source": [
    "#Does the type of installations the app effect on the total number of installing it?\n",
    "x=df.groupby(['Type'])[['Installs']].median().sort_values('Installs',ascending=False)\n",
    "x"
   ]
  },
  {
   "cell_type": "code",
   "execution_count": 561,
   "id": "4ce4a3d1",
   "metadata": {},
   "outputs": [
    {
     "data": {
      "image/png": "[encoded data removed]",
      "text/plain": [
       "<Figure size 1080x504 with 1 Axes>"
      ]
     },
     "metadata": {},
     "output_type": "display_data"
    }
   ],
   "source": [
    "plt.figure(figsize=[15,7]);\n",
    "plt.pie(x.Installs ,labels=['Free','Paid'] , colors = ['lightcoral','blue'], explode = (0,0.3), autopct='%1.0f%%');\n",
    "plt.axis('equal');\n",
    "plt.legend(title = \"type of installations\");"
   ]
  },
  {
   "cell_type": "code",
   "execution_count": 562,
   "id": "f7bc0494",
   "metadata": {},
   "outputs": [
    {
     "data": {
      "image/png": "[encoded data removed]",
      "text/plain": [
       "<Figure size 1080x432 with 1 Axes>"
      ]
     },
     "metadata": {
      "needs_background": "light"
     },
     "output_type": "display_data"
    }
   ],
   "source": [
    "#What are the categories that contain the most non-free applications?\n",
    "plt.figure(figsize=(15,6));\n",
    "plot=sns.countplot(x=df.Category,hue=df.Type);\n",
    "plt.xticks(rotation=90);"
   ]
  }
 ],
 "metadata": {
  "kernelspec": {
   "display_name": "Python 3",
   "language": "python",
   "name": "python3"
  },
  "language_info": {
   "codemirror_mode": {
    "name": "ipython",
    "version": 3
   },
   "file_extension": ".py",
   "mimetype": "text/x-python",
   "name": "python",
   "nbconvert_exporter": "python",
   "pygments_lexer": "ipython3",
   "version": "3.8.8"
  }
 },
 "nbformat": 4,
 "nbformat_minor": 5
}
